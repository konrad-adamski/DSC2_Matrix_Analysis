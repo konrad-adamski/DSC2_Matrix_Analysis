{
 "cells": [
  {
   "cell_type": "markdown",
   "id": "0c671f05",
   "metadata": {},
   "source": [
    "# MDS (Multidimensionale Skalierung)"
   ]
  },
  {
   "cell_type": "markdown",
   "id": "47829db3",
   "metadata": {},
   "source": [
    "#### Was sind euklidische Abstände?\n",
    "- Der euklidische Abstand misst die direkte (geradlinige) Distanz zwischen zwei Datenpunkten im n-dimensionalen Raum.\n",
    "- Ziel: Ähnlichkeit oder Unterschiedlichkeit zwischen Daten zu quantifizieren (z. B. zwischen DSC-Kurven).\n",
    "\n",
    "#### Was ist MDS (Multidimensionale Skalierung)?\n",
    "- MDS ist eine Technik zur Visualisierung von Ähnlichkeiten oder Unähnlichkeiten in Daten, basierend auf Distanzmaßen wie dem euklidischen Abstand.\n",
    "- Ziel: Darstellung hochdimensionaler Daten in einem 2D- oder 3D-Raum, wobei die relative Anordnung der Punkte die Abstände widerspiegelt.\n",
    "\n",
    "#### Warum euklidische Abstände und MDS für DSC-Messwerte?\n",
    "- **Quantifizierung der Unterschiede:** Euklidische Abstände geben einen klaren Wert für die Ähnlichkeit zwischen zwei DSC-Kurven.\n",
    "- **Reduktion und Visualisierung:** MDS reduziert die Dimension der Distanzmatrix und stellt die Beziehungen zwischen den Proben visuell dar.\n",
    "- **Identifikation von Gruppen:** Ähnliche Kurven werden im MDS-Plot nahe beieinander dargestellt, Unterschiede werden räumlich hervorgehoben.\n",
    "- **Vergleich komplexer Daten:** DSC-Messwerte mit vielen Datenpunkten können so in einfach verständliche Muster überführt werden."
   ]
  },
  {
   "cell_type": "markdown",
   "id": "7376be8f",
   "metadata": {},
   "source": [
    "## 1) Einlesen der Daten"
   ]
  },
  {
   "cell_type": "code",
   "execution_count": 1,
   "id": "4701c848",
   "metadata": {},
   "outputs": [],
   "source": [
    "file_path = \"../data/030_dsc_experiments.csv\""
   ]
  },
  {
   "cell_type": "code",
   "execution_count": 2,
   "id": "b244faa0",
   "metadata": {},
   "outputs": [],
   "source": [
    "import pandas as pd\n",
    "import numpy as np\n",
    "\n",
    "# Einlesen der CSV-Datei\n",
    "df_experiments = pd.read_csv(file_path, index_col=0)\n",
    "df_experiments"
   ]
  },
  {
   "cell_type": "markdown",
   "id": "c40996e7",
   "metadata": {},
   "source": [
    "## 2) Filtern der relevanten Daten (Segment \"_S5\")"
   ]
  },
  {
   "cell_type": "code",
   "execution_count": 3,
   "id": "7d035557",
   "metadata": {},
   "outputs": [],
   "source": [
    "# Filtern der Spalten, die \"_S5\" enthalten (Segment 5 \"Erhitzen\")\n",
    "columns_s5 = [col for col in df_experiments.columns if \"_S5\" in col]\n",
    "df_heating = df_experiments[columns_s5]\n",
    "df_heating"
   ]
  },
  {
   "cell_type": "markdown",
   "id": "02c73a06",
   "metadata": {},
   "source": [
    "## 3) Normalisierung der Daten"
   ]
  },
  {
   "cell_type": "code",
   "execution_count": 4,
   "id": "cc9c4330",
   "metadata": {},
   "outputs": [],
   "source": [
    "from sklearn.preprocessing import StandardScaler\n",
    "\n",
    "# Normalisierung der Daten\n",
    "scaler = StandardScaler()\n",
    "data_normalized = scaler.fit_transform(df_heating)\n",
    "\n",
    "# Umwandlung zurück in ein DataFrame\n",
    "df_heating_normalized = pd.DataFrame(data_normalized, columns=df_heating.columns, index=df_heating.index)\n",
    "df_heating_normalized"
   ]
  },
  {
   "cell_type": "markdown",
   "id": "2c0a0890",
   "metadata": {},
   "source": [
    "## 4) Transposition der Datenmatrix"
   ]
  },
  {
   "cell_type": "code",
   "execution_count": 5,
   "id": "039d9e36",
   "metadata": {},
   "outputs": [],
   "source": [
    "# Transposition der Datenmatrix: Proben werden Zeilen\n",
    "df_basis = df_heating_normalized.T\n",
    "df_basis"
   ]
  },
  {
   "cell_type": "markdown",
   "id": "6b8a6c66",
   "metadata": {},
   "source": [
    "## 5) Berechnung der Euklidischen Distanzen"
   ]
  },
  {
   "cell_type": "code",
   "execution_count": 6,
   "id": "14f6d2c9",
   "metadata": {},
   "outputs": [],
   "source": [
    "from scipy.spatial.distance import pdist, squareform"
   ]
  },
  {
   "cell_type": "markdown",
   "id": "0cc62253",
   "metadata": {},
   "source": [
    "### Paarweise Ähnlichkeit berechnen"
   ]
  },
  {
   "cell_type": "code",
   "execution_count": 7,
   "id": "c2003a8b",
   "metadata": {},
   "outputs": [],
   "source": [
    "# Beispiel-Datensatz: Zeilen = Proben, Spalten = Temperaturen\n",
    "data = df_basis.values  # Extrahiere die Werte\n",
    "\n",
    "# Berechnung der paarweisen Euklidischen Distanzen\n",
    "distance_matrix = squareform(pdist(data, metric=\"euclidean\"))\n",
    "\n",
    "# Ausgabe der Distanzmatrix als DataFrame\n",
    "distance_df = pd.DataFrame(distance_matrix, index=df_basis.index, columns=df_basis.index)"
   ]
  },
  {
   "cell_type": "code",
   "execution_count": 8,
   "id": "f7cc4531",
   "metadata": {},
   "outputs": [],
   "source": [
    "import seaborn as sns\n",
    "import matplotlib.pyplot as plt\n",
    "\n",
    "# Heatmap der Distanzmatrix erstellen\n",
    "plt.figure(figsize=(10, 8))\n",
    "sns.heatmap(distance_df, annot=False, cmap=\"viridis\", cbar=True)\n",
    "plt.title(\"Heatmap der paarweisen euklidischen Distanzen\")\n",
    "plt.xlabel(\"Proben\")\n",
    "plt.ylabel(\"Proben\")\n",
    "plt.show()"
   ]
  },
  {
   "cell_type": "markdown",
   "id": "f9e51de3",
   "metadata": {},
   "source": [
    "- **Dunkelblau**: Geringe euklidische Distanz (hohe Ähnlichkeit zwischen Proben).  \n",
    "- **Gelb**: Hohe euklidische Distanz (geringe Ähnlichkeit zwischen Proben).  \n",
    "- **Diagonale (immer Dunkelblau)**: Distanz einer Probe zu sich selbst (Wert = 0).  \n",
    "- **Farbverlauf von Dunkelblau nach Gelb**: Visualisiert den Grad der Ähnlichkeit (von hoch zu gering).  "
   ]
  },
  {
   "cell_type": "markdown",
   "id": "539270d6",
   "metadata": {},
   "source": [
    "## 6) MDS"
   ]
  },
  {
   "cell_type": "code",
   "execution_count": 9,
   "id": "948b4214",
   "metadata": {},
   "outputs": [],
   "source": [
    "from sklearn.manifold import MDS\n",
    "import matplotlib.pyplot as plt\n",
    "\n",
    "# MDS-Instanz erstellen (mit explizitem normalized_stress)\n",
    "mds = MDS(n_components=2, dissimilarity=\"precomputed\", normalized_stress=\"auto\", random_state=42)\n",
    "\n",
    "# MDS auf die Distanzmatrix anwenden\n",
    "mds_result = mds.fit_transform(distance_matrix)\n",
    "\n",
    "# Ergebnisse in einen DataFrame speichern\n",
    "df_basis[\"MDS1\"] = mds_result[:, 0]\n",
    "df_basis[\"MDS2\"] = mds_result[:, 1]\n",
    "df_basis"
   ]
  },
  {
   "cell_type": "markdown",
   "id": "e87b37bd",
   "metadata": {},
   "source": [
    "## 7) Visualisierung der MDS-Ergebnisse"
   ]
  },
  {
   "cell_type": "code",
   "execution_count": 10,
   "id": "042dda32",
   "metadata": {},
   "outputs": [],
   "source": [
    "# Visualisierung der MDS-Ergebnisse\n",
    "plt.figure(figsize=(8, 6))\n",
    "plt.scatter(df_basis[\"MDS1\"], df_basis[\"MDS2\"], c=\"blue\", edgecolor=\"k\", s=50)\n",
    "plt.title(\"MDS: Multidimensionale Skalierung\")\n",
    "plt.xlabel(\"MDS Dimension 1\")\n",
    "plt.ylabel(\"MDS Dimension 2\")\n",
    "plt.grid(True)\n",
    "plt.show()"
   ]
  },
  {
   "cell_type": "markdown",
   "id": "17d6e18f",
   "metadata": {},
   "source": [
    "## 8) Export als CSV"
   ]
  },
  {
   "cell_type": "code",
   "execution_count": 11,
   "id": "50e913f4",
   "metadata": {},
   "outputs": [],
   "source": [
    "df_basis.index = df_basis.index.astype(str).str.replace('_S5', '', regex=False)\n",
    "df_basis"
   ]
  },
  {
   "cell_type": "code",
   "execution_count": 12,
   "id": "8521723b",
   "metadata": {},
   "outputs": [],
   "source": [
    "df_basis.to_csv(\"data/mds_simple.csv\", index=True)"
   ]
  }
 ],
 "metadata": {
  "kernelspec": {
   "display_name": "Python 3 (ipykernel)",
   "language": "python",
   "name": "python3"
  },
  "language_info": {
   "codemirror_mode": {
    "name": "ipython",
    "version": 3
   },
   "file_extension": ".py",
   "mimetype": "text/x-python",
   "name": "python",
   "nbconvert_exporter": "python",
   "pygments_lexer": "ipython3",
   "version": "3.11.7"
  }
 },
 "nbformat": 4,
 "nbformat_minor": 5
}
